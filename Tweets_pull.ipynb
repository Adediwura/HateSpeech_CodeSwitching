{
 "cells": [
  {
   "cell_type": "code",
   "execution_count": null,
   "metadata": {},
   "outputs": [],
   "source": [
    "import tweepy\n",
    "import pandas as pd\n",
    "import pyodbc\n",
    "\n",
    "# Replace these with your own credentials\n",
    "bearer_token = '<Paste the bearer token here>'\n",
    "\n",
    "# Authenticate to Twitter\n",
    "client = tweepy.Client(bearer_token=bearer_token)\n",
    "\n",
    "# Define the search query and date range\n",
    "query = 'Edo Election -is:retweet'  # Replace with your search term\n",
    "\n",
    "# Can not go beyond 7 days\n",
    "start_time = '2024-09-20T00:30:00Z'  # Replace with your desired start date\n",
    "end_time = '2024-09-21T23:59:59Z'    # Replace with your desired end date\n",
    "\n",
    "# Collect tweets\n",
    "tweets = client.search_recent_tweets(query=query, tweet_fields=['author_id', 'created_at'], max_results=100, start_time=start_time, end_time=end_time)\n",
    "\n",
    "# Check if tweets were returned\n",
    "if tweets.data:\n",
    "    # Store tweets in a dataframe\n",
    "    tweets_data = [[tweet.author_id, tweet.text, tweet.created_at, query, start_time, end_time] for tweet in tweets.data]\n",
    "    df = pd.DataFrame(data=tweets_data, columns=['User', 'Tweet', 'Date', 'Keyword', 'Start_Date', 'End_Date'])\n",
    "\n",
    "    # Connect to SQL Server using Windows Authentication\n",
    "    conn = pyodbc.connect('DRIVER={SQL Server};'\n",
    "                          'SERVER=Adediwura;'\n",
    "                          'DATABASE=Thesis;'\n",
    "                          'Trusted_Connection=yes;')\n",
    "\n",
    "    cursor = conn.cursor()\n",
    "\n",
    "    # Insert data into the table\n",
    "    for index, row in df.iterrows():\n",
    "        cursor.execute(\"INSERT INTO Tweets ([User], [Tweet], [Date], [Keyword], [Start_Date], [End_Date]) VALUES (?, ?, ?, ?, ?, ?)\", \n",
    "                       row['User'], row['Tweet'], row['Date'], row['Keyword'], row['Start_Date'], row['End_Date'])\n",
    "\n",
    "    # Commit and close the connection\n",
    "    conn.commit()\n",
    "    cursor.close()\n",
    "    conn.close()\n",
    "\n",
    "    print(\"Tweets inserted into the database successfully.\")\n",
    "else:\n",
    "    print(\"No tweets found for the specified query and date range.\")"
   ]
  }
 ],
 "metadata": {
  "kernelspec": {
   "display_name": "base",
   "language": "python",
   "name": "python3"
  },
  "language_info": {
   "codemirror_mode": {
    "name": "ipython",
    "version": 3
   },
   "file_extension": ".py",
   "mimetype": "text/x-python",
   "name": "python",
   "nbconvert_exporter": "python",
   "pygments_lexer": "ipython3",
   "version": "3.11.5"
  }
 },
 "nbformat": 4,
 "nbformat_minor": 2
}
